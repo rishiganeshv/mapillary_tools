{
  "nbformat": 4,
  "nbformat_minor": 0,
  "metadata": {
    "colab": {
      "name": "Copy of Horse-or-Human-WithAugmentation.ipynb",
      "version": "0.3.2",
      "provenance": [],
      "collapsed_sections": [],
      "toc_visible": true,
      "include_colab_link": true
    },
    "kernelspec": {
      "name": "python3",
      "display_name": "Python 3"
    },
    "accelerator": "GPU"
  },
  "cells": [
    {
      "cell_type": "markdown",
      "metadata": {
        "id": "view-in-github",
        "colab_type": "text"
      },
      "source": [
        "<a href=\"https://colab.research.google.com/github/rishiganeshv/mapillary_tools/blob/master/Copy_of_Horse_or_Human_WithAugmentation.ipynb\" target=\"_parent\"><img src=\"https://colab.research.google.com/assets/colab-badge.svg\" alt=\"Open In Colab\"/></a>"
      ]
    },
    {
      "cell_type": "code",
      "metadata": {
        "colab_type": "code",
        "id": "RXZT2UsyIVe_",
        "outputId": "d50d7eaf-f28c-40ec-88ac-f44da3fa715d",
        "colab": {
          "base_uri": "https://localhost:8080/",
          "height": 391
        }
      },
      "source": [
        "!wget --no-check-certificate \\\n",
        "    https://storage.googleapis.com/laurencemoroney-blog.appspot.com/horse-or-human.zip \\\n",
        "    -O /tmp/horse-or-human.zip\n",
        "\n",
        "!wget --no-check-certificate \\\n",
        "    https://storage.googleapis.com/laurencemoroney-blog.appspot.com/validation-horse-or-human.zip \\\n",
        "    -O /tmp/validation-horse-or-human.zip\n",
        "  \n",
        "import os\n",
        "import zipfile\n",
        "\n",
        "local_zip = '/tmp/horse-or-human.zip'\n",
        "zip_ref = zipfile.ZipFile(local_zip, 'r')\n",
        "zip_ref.extractall('/tmp/horse-or-human')\n",
        "local_zip = '/tmp/validation-horse-or-human.zip'\n",
        "zip_ref = zipfile.ZipFile(local_zip, 'r')\n",
        "zip_ref.extractall('/tmp/validation-horse-or-human')\n",
        "zip_ref.close()\n",
        "# Directory with our training horse pictures\n",
        "train_horse_dir = os.path.join('/tmp/horse-or-human/horses')\n",
        "\n",
        "# Directory with our training human pictures\n",
        "train_human_dir = os.path.join('/tmp/horse-or-human/humans')\n",
        "\n",
        "# Directory with our training horse pictures\n",
        "validation_horse_dir = os.path.join('/tmp/validation-horse-or-human/horses')\n",
        "\n",
        "# Directory with our training human pictures\n",
        "validation_human_dir = os.path.join('/tmp/validation-horse-or-human/humans')"
      ],
      "execution_count": 0,
      "outputs": [
        {
          "output_type": "stream",
          "text": [
            "--2019-07-11 18:31:54--  https://storage.googleapis.com/laurencemoroney-blog.appspot.com/horse-or-human.zip\n",
            "Resolving storage.googleapis.com (storage.googleapis.com)... 74.125.141.128, 2607:f8b0:400c:c06::80\n",
            "Connecting to storage.googleapis.com (storage.googleapis.com)|74.125.141.128|:443... connected.\n",
            "HTTP request sent, awaiting response... 200 OK\n",
            "Length: 149574867 (143M) [application/zip]\n",
            "Saving to: ‘/tmp/horse-or-human.zip’\n",
            "\n",
            "/tmp/horse-or-human 100%[===================>] 142.65M  32.4MB/s    in 4.6s    \n",
            "\n",
            "2019-07-11 18:32:04 (31.0 MB/s) - ‘/tmp/horse-or-human.zip’ saved [149574867/149574867]\n",
            "\n",
            "--2019-07-11 18:32:05--  https://storage.googleapis.com/laurencemoroney-blog.appspot.com/validation-horse-or-human.zip\n",
            "Resolving storage.googleapis.com (storage.googleapis.com)... 74.125.141.128, 2607:f8b0:400c:c06::80\n",
            "Connecting to storage.googleapis.com (storage.googleapis.com)|74.125.141.128|:443... connected.\n",
            "HTTP request sent, awaiting response... 200 OK\n",
            "Length: 11480187 (11M) [application/zip]\n",
            "Saving to: ‘/tmp/validation-horse-or-human.zip’\n",
            "\n",
            "/tmp/validation-hor 100%[===================>]  10.95M  44.9MB/s    in 0.2s    \n",
            "\n",
            "2019-07-11 18:32:06 (44.9 MB/s) - ‘/tmp/validation-horse-or-human.zip’ saved [11480187/11480187]\n",
            "\n"
          ],
          "name": "stdout"
        }
      ]
    },
    {
      "cell_type": "markdown",
      "metadata": {
        "colab_type": "text",
        "id": "5oqBkNBJmtUv"
      },
      "source": [
        "## Building a Small Model from Scratch\n",
        "\n",
        "But before we continue, let's start defining the model:\n",
        "\n",
        "Step 1 will be to import tensorflow."
      ]
    },
    {
      "cell_type": "code",
      "metadata": {
        "id": "qvfZg3LQbD-5",
        "colab_type": "code",
        "colab": {}
      },
      "source": [
        "import tensorflow as tf"
      ],
      "execution_count": 0,
      "outputs": []
    },
    {
      "cell_type": "markdown",
      "metadata": {
        "colab_type": "text",
        "id": "BnhYCP4tdqjC"
      },
      "source": [
        "We then add convolutional layers as in the previous example, and flatten the final result to feed into the densely connected layers."
      ]
    },
    {
      "cell_type": "markdown",
      "metadata": {
        "id": "gokG5HKpdtzm",
        "colab_type": "text"
      },
      "source": [
        "Finally we add the densely connected layers. \n",
        "\n",
        "Note that because we are facing a two-class classification problem, i.e. a *binary classification problem*, we will end our network with a [*sigmoid* activation](https://wikipedia.org/wiki/Sigmoid_function), so that the output of our network will be a single scalar between 0 and 1, encoding the probability that the current image is class 1 (as opposed to class 0)."
      ]
    },
    {
      "cell_type": "code",
      "metadata": {
        "id": "PixZ2s5QbYQ3",
        "colab_type": "code",
        "outputId": "f7b3f94e-8665-4b0d-8d82-af5730bff739",
        "colab": {
          "base_uri": "https://localhost:8080/",
          "height": 105
        }
      },
      "source": [
        "model = tf.keras.models.Sequential([\n",
        "    # Note the input shape is the desired size of the image 300x300 with 3 bytes color\n",
        "    # This is the first convolution\n",
        "    tf.keras.layers.Conv2D(16, (3,3), activation='relu', input_shape=(300, 300, 3)),\n",
        "    tf.keras.layers.MaxPooling2D(2, 2),\n",
        "    # The second convolution\n",
        "    tf.keras.layers.Conv2D(32, (3,3), activation='relu'),\n",
        "    tf.keras.layers.MaxPooling2D(2,2),\n",
        "    # The third convolution\n",
        "    tf.keras.layers.Conv2D(64, (3,3), activation='relu'),\n",
        "    tf.keras.layers.MaxPooling2D(2,2),\n",
        "    # The fourth convolution\n",
        "    tf.keras.layers.Conv2D(64, (3,3), activation='relu'),\n",
        "    tf.keras.layers.MaxPooling2D(2,2),\n",
        "    # The fifth convolution\n",
        "    tf.keras.layers.Conv2D(64, (3,3), activation='relu'),\n",
        "    tf.keras.layers.MaxPooling2D(2,2),\n",
        "    # Flatten the results to feed into a DNN\n",
        "    tf.keras.layers.Flatten(),\n",
        "    # 512 neuron hidden layer\n",
        "    tf.keras.layers.Dense(512, activation='relu'),\n",
        "    # Only 1 output neuron. It will contain a value from 0-1 where 0 for 1 class ('horses') and 1 for the other ('humans')\n",
        "    tf.keras.layers.Dense(1, activation='sigmoid')\n",
        "])"
      ],
      "execution_count": 0,
      "outputs": [
        {
          "output_type": "stream",
          "text": [
            "WARNING: Logging before flag parsing goes to stderr.\n",
            "W0711 18:33:04.671682 139777550706560 deprecation.py:506] From /usr/local/lib/python3.6/dist-packages/tensorflow/python/ops/init_ops.py:1251: calling VarianceScaling.__init__ (from tensorflow.python.ops.init_ops) with dtype is deprecated and will be removed in a future version.\n",
            "Instructions for updating:\n",
            "Call initializer instance with the dtype argument instead of passing it to the constructor\n"
          ],
          "name": "stderr"
        }
      ]
    },
    {
      "cell_type": "code",
      "metadata": {
        "colab_type": "code",
        "id": "8DHWhFP_uhq3",
        "outputId": "007f930c-4fc9-46b7-ca45-2adfc6300514",
        "colab": {
          "base_uri": "https://localhost:8080/",
          "height": 88
        }
      },
      "source": [
        "from tensorflow.keras.optimizers import RMSprop\n",
        "\n",
        "model.compile(loss='binary_crossentropy',\n",
        "              optimizer=RMSprop(lr=1e-4),\n",
        "              metrics=['acc'])"
      ],
      "execution_count": 0,
      "outputs": [
        {
          "output_type": "stream",
          "text": [
            "W0711 18:33:13.308632 139777550706560 deprecation.py:323] From /usr/local/lib/python3.6/dist-packages/tensorflow/python/ops/nn_impl.py:180: add_dispatch_support.<locals>.wrapper (from tensorflow.python.ops.array_ops) is deprecated and will be removed in a future version.\n",
            "Instructions for updating:\n",
            "Use tf.where in 2.0, which has the same broadcast rule as np.where\n"
          ],
          "name": "stderr"
        }
      ]
    },
    {
      "cell_type": "code",
      "metadata": {
        "colab_type": "code",
        "id": "ClebU9NJg99G",
        "outputId": "b4bab6a9-47cf-4a48-c0d7-591ae25ab73a",
        "colab": {
          "base_uri": "https://localhost:8080/",
          "height": 51
        }
      },
      "source": [
        "from tensorflow.keras.preprocessing.image import ImageDataGenerator\n",
        "\n",
        "# All images will be rescaled by 1./255\n",
        "train_datagen = ImageDataGenerator(\n",
        "      rescale=1./255,\n",
        "      rotation_range=40,\n",
        "      width_shift_range=0.2,\n",
        "      height_shift_range=0.2,\n",
        "      shear_range=0.2,\n",
        "      zoom_range=0.2,\n",
        "      horizontal_flip=True,\n",
        "      fill_mode='nearest')\n",
        "\n",
        "validation_datagen = ImageDataGenerator(rescale=1/255)\n",
        "\n",
        "# Flow training images in batches of 128 using train_datagen generator\n",
        "train_generator = train_datagen.flow_from_directory(\n",
        "        '/tmp/horse-or-human/',  # This is the source directory for training images\n",
        "        target_size=(300, 300),  # All images will be resized to 150x150\n",
        "        batch_size=128,\n",
        "        # Since we use binary_crossentropy loss, we need binary labels\n",
        "        class_mode='binary')\n",
        "\n",
        "# Flow training images in batches of 128 using train_datagen generator\n",
        "validation_generator = validation_datagen.flow_from_directory(\n",
        "        '/tmp/validation-horse-or-human/',  # This is the source directory for training images\n",
        "        target_size=(300, 300),  # All images will be resized to 150x150\n",
        "        batch_size=32,\n",
        "        # Since we use binary_crossentropy loss, we need binary labels\n",
        "        class_mode='binary')"
      ],
      "execution_count": 0,
      "outputs": [
        {
          "output_type": "stream",
          "text": [
            "Found 1027 images belonging to 2 classes.\n",
            "Found 256 images belonging to 2 classes.\n"
          ],
          "name": "stdout"
        }
      ]
    },
    {
      "cell_type": "code",
      "metadata": {
        "colab_type": "code",
        "id": "Fb1_lgobv81m",
        "outputId": "a4ea134d-897f-42b9-9685-9c51cbeaf471",
        "colab": {
          "base_uri": "https://localhost:8080/",
          "height": 1000
        }
      },
      "source": [
        "history = model.fit_generator(\n",
        "      train_generator,\n",
        "      steps_per_epoch=8,  \n",
        "      epochs=100,\n",
        "      verbose=1,\n",
        "      validation_data = validation_generator,\n",
        "      validation_steps=8)"
      ],
      "execution_count": 0,
      "outputs": [
        {
          "output_type": "stream",
          "text": [
            "Epoch 1/100\n",
            "8/8 [==============================] - 22s 3s/step - loss: 0.6847 - acc: 0.5306 - val_loss: 0.7286 - val_acc: 0.5000\n",
            "Epoch 2/100\n",
            "8/8 [==============================] - 21s 3s/step - loss: 0.6862 - acc: 0.5628 - val_loss: 0.6693 - val_acc: 0.6719\n",
            "Epoch 3/100\n",
            "8/8 [==============================] - 21s 3s/step - loss: 0.6492 - acc: 0.6885 - val_loss: 0.6547 - val_acc: 0.5508\n",
            "Epoch 4/100\n",
            "8/8 [==============================] - 21s 3s/step - loss: 0.6633 - acc: 0.6174 - val_loss: 0.6914 - val_acc: 0.5000\n",
            "Epoch 5/100\n",
            "8/8 [==============================] - 24s 3s/step - loss: 0.6212 - acc: 0.7051 - val_loss: 0.6882 - val_acc: 0.5117\n",
            "Epoch 6/100\n",
            "8/8 [==============================] - 21s 3s/step - loss: 0.5774 - acc: 0.7108 - val_loss: 0.5934 - val_acc: 0.7305\n",
            "Epoch 7/100\n",
            "8/8 [==============================] - 21s 3s/step - loss: 0.5988 - acc: 0.6474 - val_loss: 0.6473 - val_acc: 0.5703\n",
            "Epoch 8/100\n",
            "8/8 [==============================] - 21s 3s/step - loss: 0.5381 - acc: 0.6997 - val_loss: 0.7177 - val_acc: 0.5508\n",
            "Epoch 9/100\n",
            "8/8 [==============================] - 21s 3s/step - loss: 0.5142 - acc: 0.7397 - val_loss: 0.8037 - val_acc: 0.5430\n",
            "Epoch 10/100\n",
            "8/8 [==============================] - 21s 3s/step - loss: 0.5640 - acc: 0.6952 - val_loss: 0.7440 - val_acc: 0.5742\n",
            "Epoch 11/100\n",
            "8/8 [==============================] - 21s 3s/step - loss: 0.4728 - acc: 0.7464 - val_loss: 0.9926 - val_acc: 0.5312\n",
            "Epoch 12/100\n",
            "8/8 [==============================] - 21s 3s/step - loss: 0.4652 - acc: 0.7709 - val_loss: 0.9053 - val_acc: 0.5586\n",
            "Epoch 13/100\n",
            "8/8 [==============================] - 24s 3s/step - loss: 0.5185 - acc: 0.7354 - val_loss: 0.9912 - val_acc: 0.5547\n",
            "Epoch 14/100\n",
            "8/8 [==============================] - 18s 2s/step - loss: 0.6316 - acc: 0.7183 - val_loss: 0.8705 - val_acc: 0.5781\n",
            "Epoch 15/100\n",
            "8/8 [==============================] - 23s 3s/step - loss: 0.4879 - acc: 0.7715 - val_loss: 1.0425 - val_acc: 0.5547\n",
            "Epoch 16/100\n",
            "8/8 [==============================] - 20s 3s/step - loss: 0.4617 - acc: 0.7764 - val_loss: 0.8202 - val_acc: 0.6484\n",
            "Epoch 17/100\n",
            "8/8 [==============================] - 21s 3s/step - loss: 0.4620 - acc: 0.7831 - val_loss: 0.8580 - val_acc: 0.6484\n",
            "Epoch 18/100\n",
            "8/8 [==============================] - 21s 3s/step - loss: 0.5544 - acc: 0.7375 - val_loss: 1.1479 - val_acc: 0.5781\n",
            "Epoch 19/100\n",
            "8/8 [==============================] - 21s 3s/step - loss: 0.4617 - acc: 0.7586 - val_loss: 0.9381 - val_acc: 0.6445\n",
            "Epoch 20/100\n",
            "8/8 [==============================] - 21s 3s/step - loss: 0.4504 - acc: 0.7853 - val_loss: 0.9532 - val_acc: 0.6523\n",
            "Epoch 21/100\n",
            "8/8 [==============================] - 21s 3s/step - loss: 0.4599 - acc: 0.7731 - val_loss: 0.6188 - val_acc: 0.7656\n",
            "Epoch 22/100\n",
            "8/8 [==============================] - 21s 3s/step - loss: 0.5535 - acc: 0.7330 - val_loss: 1.3236 - val_acc: 0.5820\n",
            "Epoch 23/100\n",
            "8/8 [==============================] - 21s 3s/step - loss: 0.4522 - acc: 0.7887 - val_loss: 1.0644 - val_acc: 0.6523\n",
            "Epoch 24/100\n",
            "8/8 [==============================] - 23s 3s/step - loss: 0.4167 - acc: 0.8145 - val_loss: 1.6335 - val_acc: 0.5508\n",
            "Epoch 25/100\n",
            "8/8 [==============================] - 18s 2s/step - loss: 0.4650 - acc: 0.7855 - val_loss: 1.3493 - val_acc: 0.6094\n",
            "Epoch 26/100\n",
            "8/8 [==============================] - 23s 3s/step - loss: 0.4344 - acc: 0.7969 - val_loss: 1.3865 - val_acc: 0.5977\n",
            "Epoch 27/100\n",
            "8/8 [==============================] - 21s 3s/step - loss: 0.5159 - acc: 0.7642 - val_loss: 1.0396 - val_acc: 0.6484\n",
            "Epoch 28/100\n",
            "8/8 [==============================] - 21s 3s/step - loss: 0.3572 - acc: 0.8176 - val_loss: 1.2092 - val_acc: 0.6328\n",
            "Epoch 29/100\n",
            "8/8 [==============================] - 20s 3s/step - loss: 0.3968 - acc: 0.7898 - val_loss: 1.1000 - val_acc: 0.6719\n",
            "Epoch 30/100\n",
            "8/8 [==============================] - 21s 3s/step - loss: 0.4380 - acc: 0.7931 - val_loss: 1.1689 - val_acc: 0.6562\n",
            "Epoch 31/100\n",
            "8/8 [==============================] - 21s 3s/step - loss: 0.5013 - acc: 0.7953 - val_loss: 1.2815 - val_acc: 0.6289\n",
            "Epoch 32/100\n",
            "8/8 [==============================] - 24s 3s/step - loss: 0.3940 - acc: 0.8291 - val_loss: 1.6073 - val_acc: 0.5742\n",
            "Epoch 33/100\n",
            "8/8 [==============================] - 18s 2s/step - loss: 0.3603 - acc: 0.8295 - val_loss: 1.3143 - val_acc: 0.6289\n",
            "Epoch 34/100\n",
            "8/8 [==============================] - 24s 3s/step - loss: 0.3642 - acc: 0.8438 - val_loss: 1.6370 - val_acc: 0.5938\n",
            "Epoch 35/100\n",
            "8/8 [==============================] - 21s 3s/step - loss: 0.3944 - acc: 0.8298 - val_loss: 1.2073 - val_acc: 0.6719\n",
            "Epoch 36/100\n",
            "8/8 [==============================] - 21s 3s/step - loss: 0.3596 - acc: 0.8287 - val_loss: 1.3275 - val_acc: 0.6562\n",
            "Epoch 37/100\n",
            "8/8 [==============================] - 21s 3s/step - loss: 0.3276 - acc: 0.8331 - val_loss: 1.6288 - val_acc: 0.6172\n",
            "Epoch 38/100\n",
            "8/8 [==============================] - 23s 3s/step - loss: 0.3678 - acc: 0.8369 - val_loss: 1.3986 - val_acc: 0.6289\n",
            "Epoch 39/100\n",
            "8/8 [==============================] - 18s 2s/step - loss: 0.3705 - acc: 0.8372 - val_loss: 1.8792 - val_acc: 0.5781\n",
            "Epoch 40/100\n",
            "8/8 [==============================] - 23s 3s/step - loss: 0.3638 - acc: 0.8359 - val_loss: 2.0606 - val_acc: 0.5547\n",
            "Epoch 41/100\n",
            "8/8 [==============================] - 21s 3s/step - loss: 0.3027 - acc: 0.8521 - val_loss: 1.7105 - val_acc: 0.6133\n",
            "Epoch 42/100\n",
            "8/8 [==============================] - 21s 3s/step - loss: 0.3326 - acc: 0.8432 - val_loss: 1.5983 - val_acc: 0.6289\n",
            "Epoch 43/100\n",
            "8/8 [==============================] - 21s 3s/step - loss: 0.3772 - acc: 0.8387 - val_loss: 1.5322 - val_acc: 0.6406\n",
            "Epoch 44/100\n",
            "8/8 [==============================] - 21s 3s/step - loss: 0.3395 - acc: 0.8610 - val_loss: 1.7951 - val_acc: 0.5977\n",
            "Epoch 45/100\n",
            "8/8 [==============================] - 21s 3s/step - loss: 0.2895 - acc: 0.8676 - val_loss: 1.8938 - val_acc: 0.6016\n",
            "Epoch 46/100\n",
            "8/8 [==============================] - 23s 3s/step - loss: 0.2875 - acc: 0.8711 - val_loss: 2.9513 - val_acc: 0.5234\n",
            "Epoch 47/100\n",
            "8/8 [==============================] - 19s 2s/step - loss: 0.3178 - acc: 0.8295 - val_loss: 1.5302 - val_acc: 0.6445\n",
            "Epoch 48/100\n",
            "8/8 [==============================] - 21s 3s/step - loss: 0.2750 - acc: 0.8865 - val_loss: 3.1205 - val_acc: 0.5117\n",
            "Epoch 49/100\n",
            "8/8 [==============================] - 24s 3s/step - loss: 0.2905 - acc: 0.8721 - val_loss: 1.8770 - val_acc: 0.6016\n",
            "Epoch 50/100\n",
            "8/8 [==============================] - 18s 2s/step - loss: 0.4187 - acc: 0.8527 - val_loss: 1.6055 - val_acc: 0.6328\n",
            "Epoch 51/100\n",
            "8/8 [==============================] - 24s 3s/step - loss: 0.2522 - acc: 0.9033 - val_loss: 2.0806 - val_acc: 0.5938\n",
            "Epoch 52/100\n",
            "8/8 [==============================] - 21s 3s/step - loss: 0.2073 - acc: 0.9221 - val_loss: 2.8511 - val_acc: 0.5625\n",
            "Epoch 53/100\n",
            "8/8 [==============================] - 21s 3s/step - loss: 0.4126 - acc: 0.8587 - val_loss: 2.5019 - val_acc: 0.5625\n",
            "Epoch 54/100\n",
            "8/8 [==============================] - 21s 3s/step - loss: 0.1990 - acc: 0.9121 - val_loss: 2.7930 - val_acc: 0.5625\n",
            "Epoch 55/100\n",
            "8/8 [==============================] - 21s 3s/step - loss: 0.2979 - acc: 0.8810 - val_loss: 2.1465 - val_acc: 0.6016\n",
            "Epoch 56/100\n",
            "8/8 [==============================] - 23s 3s/step - loss: 0.2276 - acc: 0.9082 - val_loss: 2.8358 - val_acc: 0.5586\n",
            "Epoch 57/100\n",
            "8/8 [==============================] - 18s 2s/step - loss: 0.2616 - acc: 0.8695 - val_loss: 2.9363 - val_acc: 0.5508\n",
            "Epoch 58/100\n",
            "8/8 [==============================] - 20s 3s/step - loss: 0.2432 - acc: 0.8821 - val_loss: 1.8845 - val_acc: 0.6406\n",
            "Epoch 59/100\n",
            "8/8 [==============================] - 24s 3s/step - loss: 0.2156 - acc: 0.9160 - val_loss: 2.4646 - val_acc: 0.5938\n",
            "Epoch 60/100\n",
            "8/8 [==============================] - 21s 3s/step - loss: 0.2568 - acc: 0.8598 - val_loss: 2.3385 - val_acc: 0.6016\n",
            "Epoch 61/100\n",
            "8/8 [==============================] - 21s 3s/step - loss: 0.1705 - acc: 0.9333 - val_loss: 2.6223 - val_acc: 0.5938\n",
            "Epoch 62/100\n",
            "8/8 [==============================] - 21s 3s/step - loss: 0.3655 - acc: 0.8721 - val_loss: 2.3830 - val_acc: 0.6055\n",
            "Epoch 63/100\n",
            "8/8 [==============================] - 21s 3s/step - loss: 0.2744 - acc: 0.8899 - val_loss: 1.9775 - val_acc: 0.6445\n",
            "Epoch 64/100\n",
            "8/8 [==============================] - 21s 3s/step - loss: 0.1734 - acc: 0.9255 - val_loss: 2.7491 - val_acc: 0.5938\n",
            "Epoch 65/100\n",
            "8/8 [==============================] - 21s 3s/step - loss: 0.2647 - acc: 0.8621 - val_loss: 2.9555 - val_acc: 0.5664\n",
            "Epoch 66/100\n",
            "8/8 [==============================] - 23s 3s/step - loss: 0.1948 - acc: 0.9268 - val_loss: 2.8285 - val_acc: 0.5938\n",
            "Epoch 67/100\n",
            "8/8 [==============================] - 18s 2s/step - loss: 0.3211 - acc: 0.8760 - val_loss: 3.4570 - val_acc: 0.5469\n",
            "Epoch 68/100\n",
            "8/8 [==============================] - 21s 3s/step - loss: 0.1615 - acc: 0.9321 - val_loss: 2.0422 - val_acc: 0.6523\n",
            "Epoch 69/100\n",
            "8/8 [==============================] - 21s 3s/step - loss: 0.3711 - acc: 0.8465 - val_loss: 2.3496 - val_acc: 0.5977\n",
            "Epoch 70/100\n",
            "8/8 [==============================] - 23s 3s/step - loss: 0.1986 - acc: 0.9287 - val_loss: 2.6913 - val_acc: 0.5977\n",
            "Epoch 71/100\n",
            "8/8 [==============================] - 20s 3s/step - loss: 0.1933 - acc: 0.9210 - val_loss: 2.5786 - val_acc: 0.6133\n",
            "Epoch 72/100\n",
            "8/8 [==============================] - 20s 3s/step - loss: 0.2384 - acc: 0.8910 - val_loss: 3.0536 - val_acc: 0.5664\n",
            "Epoch 73/100\n",
            "8/8 [==============================] - 21s 3s/step - loss: 0.2447 - acc: 0.8810 - val_loss: 2.5048 - val_acc: 0.6289\n",
            "Epoch 74/100\n",
            "8/8 [==============================] - 21s 3s/step - loss: 0.1841 - acc: 0.9132 - val_loss: 2.3150 - val_acc: 0.6406\n",
            "Epoch 75/100\n",
            "8/8 [==============================] - 21s 3s/step - loss: 0.2433 - acc: 0.8999 - val_loss: 2.8795 - val_acc: 0.5781\n",
            "Epoch 76/100\n",
            "8/8 [==============================] - 23s 3s/step - loss: 0.1659 - acc: 0.9443 - val_loss: 2.6280 - val_acc: 0.6172\n",
            "Epoch 77/100\n",
            "8/8 [==============================] - 18s 2s/step - loss: 0.3668 - acc: 0.9005 - val_loss: 2.3395 - val_acc: 0.6133\n",
            "Epoch 78/100\n",
            "8/8 [==============================] - 24s 3s/step - loss: 0.1889 - acc: 0.9258 - val_loss: 3.6061 - val_acc: 0.5352\n",
            "Epoch 79/100\n",
            "8/8 [==============================] - 18s 2s/step - loss: 0.1756 - acc: 0.9070 - val_loss: 2.9785 - val_acc: 0.5820\n",
            "Epoch 80/100\n",
            "8/8 [==============================] - 23s 3s/step - loss: 0.1904 - acc: 0.9141 - val_loss: 2.0750 - val_acc: 0.6523\n",
            "Epoch 81/100\n",
            "8/8 [==============================] - 21s 3s/step - loss: 0.2668 - acc: 0.9221 - val_loss: 2.6796 - val_acc: 0.6133\n",
            "Epoch 82/100\n",
            "8/8 [==============================] - 23s 3s/step - loss: 0.1941 - acc: 0.9229 - val_loss: 2.5473 - val_acc: 0.6328\n",
            "Epoch 83/100\n",
            "8/8 [==============================] - 19s 2s/step - loss: 0.2199 - acc: 0.9121 - val_loss: 4.5318 - val_acc: 0.5234\n",
            "Epoch 84/100\n",
            "8/8 [==============================] - 21s 3s/step - loss: 0.1582 - acc: 0.9333 - val_loss: 2.1453 - val_acc: 0.6523\n",
            "Epoch 85/100\n",
            "8/8 [==============================] - 23s 3s/step - loss: 0.1884 - acc: 0.9121 - val_loss: 1.8152 - val_acc: 0.6797\n",
            "Epoch 86/100\n",
            "8/8 [==============================] - 21s 3s/step - loss: 0.1529 - acc: 0.9299 - val_loss: 3.9309 - val_acc: 0.5469\n",
            "Epoch 87/100\n",
            "8/8 [==============================] - 18s 2s/step - loss: 0.2310 - acc: 0.9199 - val_loss: 3.1491 - val_acc: 0.5938\n",
            "Epoch 88/100\n",
            "8/8 [==============================] - 23s 3s/step - loss: 0.1706 - acc: 0.9209 - val_loss: 3.2580 - val_acc: 0.5898\n",
            "Epoch 89/100\n",
            "8/8 [==============================] - 20s 3s/step - loss: 0.1732 - acc: 0.9344 - val_loss: 3.3800 - val_acc: 0.5898\n",
            "Epoch 90/100\n",
            "8/8 [==============================] - 21s 3s/step - loss: 0.2365 - acc: 0.9132 - val_loss: 3.5163 - val_acc: 0.5703\n",
            "Epoch 91/100\n",
            "8/8 [==============================] - 20s 3s/step - loss: 0.1303 - acc: 0.9444 - val_loss: 2.9968 - val_acc: 0.6211\n",
            "Epoch 92/100\n",
            "8/8 [==============================] - 20s 3s/step - loss: 0.1590 - acc: 0.9277 - val_loss: 3.1477 - val_acc: 0.6055\n",
            "Epoch 93/100\n",
            "8/8 [==============================] - 21s 3s/step - loss: 0.1943 - acc: 0.9010 - val_loss: 3.3771 - val_acc: 0.5742\n",
            "Epoch 94/100\n",
            "8/8 [==============================] - 21s 3s/step - loss: 0.1648 - acc: 0.9488 - val_loss: 7.1976 - val_acc: 0.5000\n",
            "Epoch 95/100\n",
            "8/8 [==============================] - 23s 3s/step - loss: 0.2952 - acc: 0.9014 - val_loss: 3.4279 - val_acc: 0.5703\n",
            "Epoch 96/100\n",
            "8/8 [==============================] - 18s 2s/step - loss: 0.2925 - acc: 0.9134 - val_loss: 2.5151 - val_acc: 0.6367\n",
            "Epoch 97/100\n",
            "8/8 [==============================] - 23s 3s/step - loss: 0.1427 - acc: 0.9463 - val_loss: 3.6561 - val_acc: 0.5703\n",
            "Epoch 98/100\n",
            "8/8 [==============================] - 18s 2s/step - loss: 0.1128 - acc: 0.9509 - val_loss: 4.3178 - val_acc: 0.5430\n",
            "Epoch 99/100\n",
            "8/8 [==============================] - 23s 3s/step - loss: 0.1530 - acc: 0.9395 - val_loss: 4.4918 - val_acc: 0.5391\n",
            "Epoch 100/100\n",
            "8/8 [==============================] - 23s 3s/step - loss: 0.1598 - acc: 0.9365 - val_loss: 4.2897 - val_acc: 0.5430\n"
          ],
          "name": "stdout"
        }
      ]
    },
    {
      "cell_type": "code",
      "metadata": {
        "id": "7zNPRWOVJdOH",
        "colab_type": "code",
        "outputId": "2a394be8-7c88-4035-8ecc-11ecfea43f26",
        "colab": {
          "base_uri": "https://localhost:8080/",
          "height": 545
        }
      },
      "source": [
        "import matplotlib.pyplot as plt\n",
        "acc = history.history['acc']\n",
        "val_acc = history.history['val_acc']\n",
        "loss = history.history['loss']\n",
        "val_loss = history.history['val_loss']\n",
        "\n",
        "epochs = range(len(acc))\n",
        "\n",
        "plt.plot(epochs, acc, 'r', label='Training accuracy')\n",
        "plt.plot(epochs, val_acc, 'b', label='Validation accuracy')\n",
        "plt.title('Training and validation accuracy')\n",
        "\n",
        "plt.figure()\n",
        "\n",
        "plt.plot(epochs, loss, 'r', label='Training Loss')\n",
        "plt.plot(epochs, val_loss, 'b', label='Validation Loss')\n",
        "plt.title('Training and validation loss')\n",
        "plt.legend()\n",
        "\n",
        "plt.show()"
      ],
      "execution_count": 0,
      "outputs": [
        {
          "output_type": "display_data",
          "data": {
            "image/png": "[encoded data removed]",
            "text/plain": [
              "<Figure size 432x288 with 1 Axes>"
            ]
          },
          "metadata": {
            "tags": []
          }
        },
        {
          "output_type": "display_data",
          "data": {
            "image/png": "[encoded data removed]",
            "text/plain": [
              "<Figure size 432x288 with 1 Axes>"
            ]
          },
          "metadata": {
            "tags": []
          }
        }
      ]
    }
  ]
}